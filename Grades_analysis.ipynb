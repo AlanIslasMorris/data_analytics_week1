{
 "cells": [
  {
   "cell_type": "code",
   "execution_count": 85,
   "id": "29cdb28e",
   "metadata": {},
   "outputs": [],
   "source": [
    "import pandas as pd\n",
    "import matplotlib.pyplot as plt\n",
    "import seaborn as sns\n",
    "df = pd.read_csv(\"grades.csv\")\n",
    "df1 = pd.read_csv(\"grades2.csv\")\n",
    "df[\"total_grade\"] = (df[\"Midterm Exam\"] / 3) + (df[\"Midterm Paper\"] / 3) + (df[\"Final Exam\"] / 3)\n",
    "df1[\"total_grade\"] = (df1[\"Midterm Exam\"] / 3) + (df1[\"Midterm Paper\"] / 3) + (df1[\"Final Exam\"] / 3)\n",
    "def classify_grade(total_grade):\n",
    "    if total_grade >= 90:\n",
    "        return \"A\"\n",
    "    elif total_grade >= 80:\n",
    "        return \"B\"\n",
    "    elif total_grade >= 70:\n",
    "        return \"C\"\n",
    "    elif total_grade >= 60:\n",
    "        return \"D\"\n",
    "    else:\n",
    "        return \"F\"\n",
    "        \n",
    "df[\"letter_grade\"] = df[\"total_grade\"].apply(classify_grade)\n",
    "df1[\"letter_grade\"] = df1[\"total_grade\"].apply(classify_grade)"
   ]
  },
  {
   "cell_type": "code",
   "execution_count": 86,
   "id": "4baf5ac9",
   "metadata": {},
   "outputs": [],
   "source": [
    "df.to_csv(\"grades_.csv\", index=False)"
   ]
  },
  {
   "cell_type": "code",
   "execution_count": 87,
   "id": "a02e58f5",
   "metadata": {},
   "outputs": [
    {
     "name": "stdout",
     "output_type": "stream",
     "text": [
      "71.77777777777779\n"
     ]
    }
   ],
   "source": [
    "class_mean = df[\"total_grade\"].mean()\n",
    "print(class_mean)"
   ]
  },
  {
   "cell_type": "code",
   "execution_count": 88,
   "id": "ed9116b8",
   "metadata": {},
   "outputs": [
    {
     "name": "stdout",
     "output_type": "stream",
     "text": [
      "24\n"
     ]
    }
   ],
   "source": [
    "class_n = df[\"total_grade\"].count()\n",
    "print(class_n)"
   ]
  },
  {
   "cell_type": "code",
   "execution_count": 89,
   "id": "a62264d2",
   "metadata": {},
   "outputs": [
    {
     "name": "stdout",
     "output_type": "stream",
     "text": [
      "71.77777777777779\n"
     ]
    }
   ],
   "source": [
    "lass_mean = df[\"total_grade\"].median()\n",
    "print(class_mean)"
   ]
  },
  {
   "cell_type": "code",
   "execution_count": 90,
   "id": "e238f332",
   "metadata": {},
   "outputs": [
    {
     "data": {
      "image/png": "[encoded data removed]",
      "text/plain": [
       "<Figure size 432x288 with 1 Axes>"
      ]
     },
     "metadata": {
      "needs_background": "light"
     },
     "output_type": "display_data"
    }
   ],
   "source": [
    "\n",
    "\n",
    "df.boxplot(column=[\"total_grade\"])\n",
    "\n",
    "plt.title(\"Total Grade Boxplot\")\n",
    "plt.ylabel(\"Total Grade\")\n",
    "plt.show()"
   ]
  },
  {
   "cell_type": "code",
   "execution_count": 91,
   "id": "f17f2428",
   "metadata": {},
   "outputs": [
    {
     "data": {
      "image/png": "[encoded data removed]",
      "text/plain": [
       "<Figure size 432x288 with 1 Axes>"
      ]
     },
     "metadata": {
      "needs_background": "light"
     },
     "output_type": "display_data"
    }
   ],
   "source": [
    "cols_to_plot = [\"Midterm Exam\", \"Midterm Paper\", \"total_grade\", \"Final Exam\"]\n",
    "df[cols_to_plot].boxplot()\n",
    "\n",
    "plt.title(\"Grades Boxplot\")\n",
    "plt.ylabel(\"Grade\")\n",
    "plt.show()\n"
   ]
  },
  {
   "cell_type": "code",
   "execution_count": 92,
   "id": "b812e552",
   "metadata": {},
   "outputs": [
    {
     "name": "stdout",
     "output_type": "stream",
     "text": [
      "0.571845631206831\n"
     ]
    }
   ],
   "source": [
    "#correlation between the midterm exam and the midterm paper\n",
    "midterm_corr = df[\"Midterm Exam\"].corr(df[\"Midterm Paper\"])\n",
    "print(midterm_corr)\n"
   ]
  },
  {
   "cell_type": "code",
   "execution_count": 93,
   "id": "cb2a8f3f",
   "metadata": {},
   "outputs": [
    {
     "name": "stdout",
     "output_type": "stream",
     "text": [
      "The Midterm Paper column has the highest correlation to the Final Exam with a correlation coefficient of -0.41065208028507205\n"
     ]
    }
   ],
   "source": [
    "#Column that has the highest correlation to the final exam?\n",
    "final_corr = df.corr()[\"Final Exam\"]\n",
    "highest_corr_col = final_corr.abs().sort_values(ascending=False).index[1]\n",
    "\n",
    "print(f\"The {highest_corr_col} column has the highest correlation to the Final Exam with a correlation coefficient of {final_corr[highest_corr_col]}\")"
   ]
  },
  {
   "cell_type": "code",
   "execution_count": 94,
   "id": "7af782ff",
   "metadata": {},
   "outputs": [
    {
     "data": {
      "image/png": "[encoded data removed]",
      "text/plain": [
       "<Figure size 432x288 with 2 Axes>"
      ]
     },
     "metadata": {
      "needs_background": "light"
     },
     "output_type": "display_data"
    }
   ],
   "source": [
    "# Calculate correlation matrix\n",
    "corr_matrix = df.corr()\n",
    "\n",
    "# Create heatmap plot\n",
    "sns.heatmap(corr_matrix, cmap=\"RdBu_r\")\n",
    "\n",
    "plt.title(\"Correlation Heatmap\")\n",
    "plt.show()"
   ]
  },
  {
   "cell_type": "code",
   "execution_count": 95,
   "id": "a0c29709",
   "metadata": {},
   "outputs": [
    {
     "name": "stdout",
     "output_type": "stream",
     "text": [
      "         Student Name  Final Exam\n",
      "15      Iolana Akamai          99\n",
      "5    Odella Margetson          95\n",
      "7    Leticia Piechnik          94\n",
      "11       Bella Pucker          94\n",
      "13  Cherise Bartoloma          94\n"
     ]
    }
   ],
   "source": [
    "\n",
    "#Lista el nombre y la calificación de los top 5 alumnos\n",
    "top_5 = df.loc[:, [\"Student Name\", \"Final Exam\"]].sort_values(by=\"Final Exam\", ascending=False).head(5)\n",
    "\n",
    "print(top_5)\n",
    "\n"
   ]
  },
  {
   "cell_type": "code",
   "execution_count": 96,
   "id": "7d594373",
   "metadata": {},
   "outputs": [
    {
     "data": {
      "image/png": "[encoded data removed]",
      "text/plain": [
       "<Figure size 432x288 with 1 Axes>"
      ]
     },
     "metadata": {
      "needs_background": "light"
     },
     "output_type": "display_data"
    }
   ],
   "source": [
    "# Create histogram with 10 bins\n",
    "plt.hist(df[\"total_grade\"], bins=10)\n",
    "\n",
    "# Create histogram with 10 bins\n",
    "counts, bins, patches = plt.hist(df[\"total_grade\"], bins=10)\n",
    "\n",
    "# Set x-axis label\n",
    "plt.xlabel(\"Total Grade\")\n",
    "\n",
    "# Set y-axis label\n",
    "plt.ylabel(\"Frequency\")\n",
    "\n",
    "# Set title of histogram\n",
    "plt.title(\"Histogram of Total Grade\")\n",
    "\n",
    "# Add labels to bars\n",
    "for count, patch in zip(counts, patches):\n",
    "    x = patch.get_x() + patch.get_width() / 2\n",
    "    y = count\n",
    "    plt.text(x, y, str(count), ha=\"center\", va=\"bottom\")\n",
    "\n",
    "\n",
    "# Show the plot\n",
    "plt.show()\n"
   ]
  },
  {
   "cell_type": "code",
   "execution_count": 97,
   "id": "2a0a8e6e",
   "metadata": {},
   "outputs": [
    {
     "data": {
      "image/png": "[encoded data removed]",
      "text/plain": [
       "<Figure size 432x288 with 1 Axes>"
      ]
     },
     "metadata": {
      "needs_background": "light"
     },
     "output_type": "display_data"
    }
   ],
   "source": [
    "# Set number of bins and range for both histograms\n",
    "num_bins = 10\n",
    "hist_range = (0, 100)\n",
    "\n",
    "# Create histogram for df and set color to orange\n",
    "plt.hist(df[\"total_grade\"], bins=num_bins, range=hist_range, color=\"orange\", alpha=0.5)\n",
    "\n",
    "# Create histogram for df1 and set color to blue\n",
    "plt.hist(df1[\"total_grade\"], bins=num_bins, range=hist_range, color=\"blue\", alpha=0.5)\n",
    "\n",
    "# Set x-axis label\n",
    "plt.xlabel(\"Total Grade\")\n",
    "\n",
    "# Set y-axis label\n",
    "plt.ylabel(\"Number of Students\")\n",
    "\n",
    "# Set title of histogram\n",
    "plt.title(\"Distribution of Total Grades\")\n",
    "\n",
    "# Add legend\n",
    "plt.legend([\"df\", \"df1\"])\n",
    "\n",
    "# Show the plot\n",
    "plt.show()\n"
   ]
  },
  {
   "cell_type": "code",
   "execution_count": 98,
   "id": "940f9ad1",
   "metadata": {},
   "outputs": [
    {
     "data": {
      "image/png": "[encoded data removed]",
      "text/plain": [
       "<Figure size 432x288 with 1 Axes>"
      ]
     },
     "metadata": {
      "needs_background": "light"
     },
     "output_type": "display_data"
    }
   ],
   "source": [
    "# Set number of bins and range for both histograms\n",
    "num_bins = 10\n",
    "hist_range = (0, 100)\n",
    "\n",
    "# Create histogram for df and set color to orange\n",
    "n, bins, patches = plt.hist(df[\"total_grade\"], bins=num_bins, range=hist_range, color=\"orange\", alpha=0.5)\n",
    "\n",
    "# Add labels to the bars in the histogram for df\n",
    "for i in range(len(patches)):\n",
    "    plt.text(patches[i].get_x() + patches[i].get_width() / 2, patches[i].get_height(),\n",
    "             str(int(n[i])), ha='center', va='bottom')\n",
    "\n",
    "# Create histogram for df1 and set color to blue\n",
    "n1, bins1, patches1 = plt.hist(df1[\"total_grade\"], bins=num_bins, range=hist_range, color=\"blue\", alpha=0.5)\n",
    "\n",
    "# Add labels to the bars in the histogram for df1\n",
    "for i in range(len(patches1)):\n",
    "    plt.text(patches1[i].get_x() + patches1[i].get_width() / 2, patches1[i].get_height(),\n",
    "             str(int(n1[i])), ha='center', va='bottom')\n",
    "\n",
    "# Set x-axis label\n",
    "plt.xlabel(\"Total Grade\")\n",
    "\n",
    "# Set y-axis label\n",
    "plt.ylabel(\"Number of Students\")\n",
    "\n",
    "# Set title of histogram\n",
    "plt.title(\"Distribution of Total Grades\")\n",
    "\n",
    "# Add legend\n",
    "plt.legend([\"df\", \"df1\"])\n",
    "\n",
    "# Show the plot\n",
    "plt.show()"
   ]
  },
  {
   "cell_type": "code",
   "execution_count": 99,
   "id": "5a4d66ec",
   "metadata": {},
   "outputs": [
    {
     "data": {
      "text/html": [
       "<div>\n",
       "<style scoped>\n",
       "    .dataframe tbody tr th:only-of-type {\n",
       "        vertical-align: middle;\n",
       "    }\n",
       "\n",
       "    .dataframe tbody tr th {\n",
       "        vertical-align: top;\n",
       "    }\n",
       "\n",
       "    .dataframe thead th {\n",
       "        text-align: right;\n",
       "    }\n",
       "</style>\n",
       "<table border=\"1\" class=\"dataframe\">\n",
       "  <thead>\n",
       "    <tr style=\"text-align: right;\">\n",
       "      <th></th>\n",
       "      <th>Midterm Exam</th>\n",
       "      <th>Midterm Paper</th>\n",
       "      <th>Final Exam</th>\n",
       "      <th>total_grade</th>\n",
       "    </tr>\n",
       "  </thead>\n",
       "  <tbody>\n",
       "    <tr>\n",
       "      <th>count</th>\n",
       "      <td>24.000000</td>\n",
       "      <td>24.000000</td>\n",
       "      <td>24.000000</td>\n",
       "      <td>24.000000</td>\n",
       "    </tr>\n",
       "    <tr>\n",
       "      <th>mean</th>\n",
       "      <td>66.000000</td>\n",
       "      <td>75.708333</td>\n",
       "      <td>73.625000</td>\n",
       "      <td>71.777778</td>\n",
       "    </tr>\n",
       "    <tr>\n",
       "      <th>std</th>\n",
       "      <td>20.496023</td>\n",
       "      <td>17.223541</td>\n",
       "      <td>16.140181</td>\n",
       "      <td>11.228701</td>\n",
       "    </tr>\n",
       "    <tr>\n",
       "      <th>min</th>\n",
       "      <td>43.000000</td>\n",
       "      <td>42.000000</td>\n",
       "      <td>42.000000</td>\n",
       "      <td>54.666667</td>\n",
       "    </tr>\n",
       "    <tr>\n",
       "      <th>25%</th>\n",
       "      <td>49.750000</td>\n",
       "      <td>61.250000</td>\n",
       "      <td>61.750000</td>\n",
       "      <td>64.666667</td>\n",
       "    </tr>\n",
       "    <tr>\n",
       "      <th>50%</th>\n",
       "      <td>59.000000</td>\n",
       "      <td>80.500000</td>\n",
       "      <td>71.000000</td>\n",
       "      <td>71.333333</td>\n",
       "    </tr>\n",
       "    <tr>\n",
       "      <th>75%</th>\n",
       "      <td>89.000000</td>\n",
       "      <td>91.250000</td>\n",
       "      <td>86.000000</td>\n",
       "      <td>78.250000</td>\n",
       "    </tr>\n",
       "    <tr>\n",
       "      <th>max</th>\n",
       "      <td>100.000000</td>\n",
       "      <td>96.000000</td>\n",
       "      <td>99.000000</td>\n",
       "      <td>96.333333</td>\n",
       "    </tr>\n",
       "  </tbody>\n",
       "</table>\n",
       "</div>"
      ],
      "text/plain": [
       "       Midterm Exam  Midterm Paper  Final Exam  total_grade\n",
       "count     24.000000      24.000000   24.000000    24.000000\n",
       "mean      66.000000      75.708333   73.625000    71.777778\n",
       "std       20.496023      17.223541   16.140181    11.228701\n",
       "min       43.000000      42.000000   42.000000    54.666667\n",
       "25%       49.750000      61.250000   61.750000    64.666667\n",
       "50%       59.000000      80.500000   71.000000    71.333333\n",
       "75%       89.000000      91.250000   86.000000    78.250000\n",
       "max      100.000000      96.000000   99.000000    96.333333"
      ]
     },
     "execution_count": 99,
     "metadata": {},
     "output_type": "execute_result"
    }
   ],
   "source": [
    "df.describe()\n"
   ]
  },
  {
   "cell_type": "code",
   "execution_count": 100,
   "id": "3121a3fb",
   "metadata": {},
   "outputs": [
    {
     "data": {
      "text/html": [
       "<div>\n",
       "<style scoped>\n",
       "    .dataframe tbody tr th:only-of-type {\n",
       "        vertical-align: middle;\n",
       "    }\n",
       "\n",
       "    .dataframe tbody tr th {\n",
       "        vertical-align: top;\n",
       "    }\n",
       "\n",
       "    .dataframe thead th {\n",
       "        text-align: right;\n",
       "    }\n",
       "</style>\n",
       "<table border=\"1\" class=\"dataframe\">\n",
       "  <thead>\n",
       "    <tr style=\"text-align: right;\">\n",
       "      <th></th>\n",
       "      <th>Midterm Exam</th>\n",
       "      <th>Midterm Paper</th>\n",
       "      <th>Final Exam</th>\n",
       "      <th>total_grade</th>\n",
       "    </tr>\n",
       "  </thead>\n",
       "  <tbody>\n",
       "    <tr>\n",
       "      <th>count</th>\n",
       "      <td>24.000000</td>\n",
       "      <td>24.000000</td>\n",
       "      <td>24.000000</td>\n",
       "      <td>24.000000</td>\n",
       "    </tr>\n",
       "    <tr>\n",
       "      <th>mean</th>\n",
       "      <td>52.708333</td>\n",
       "      <td>59.083333</td>\n",
       "      <td>61.541667</td>\n",
       "      <td>57.777778</td>\n",
       "    </tr>\n",
       "    <tr>\n",
       "      <th>std</th>\n",
       "      <td>19.676689</td>\n",
       "      <td>17.472753</td>\n",
       "      <td>21.054751</td>\n",
       "      <td>10.721177</td>\n",
       "    </tr>\n",
       "    <tr>\n",
       "      <th>min</th>\n",
       "      <td>22.000000</td>\n",
       "      <td>30.000000</td>\n",
       "      <td>23.000000</td>\n",
       "      <td>35.666667</td>\n",
       "    </tr>\n",
       "    <tr>\n",
       "      <th>25%</th>\n",
       "      <td>40.250000</td>\n",
       "      <td>48.000000</td>\n",
       "      <td>48.000000</td>\n",
       "      <td>52.166667</td>\n",
       "    </tr>\n",
       "    <tr>\n",
       "      <th>50%</th>\n",
       "      <td>47.500000</td>\n",
       "      <td>53.500000</td>\n",
       "      <td>60.000000</td>\n",
       "      <td>53.500000</td>\n",
       "    </tr>\n",
       "    <tr>\n",
       "      <th>75%</th>\n",
       "      <td>64.000000</td>\n",
       "      <td>64.750000</td>\n",
       "      <td>71.250000</td>\n",
       "      <td>63.916667</td>\n",
       "    </tr>\n",
       "    <tr>\n",
       "      <th>max</th>\n",
       "      <td>97.000000</td>\n",
       "      <td>96.000000</td>\n",
       "      <td>104.000000</td>\n",
       "      <td>85.000000</td>\n",
       "    </tr>\n",
       "  </tbody>\n",
       "</table>\n",
       "</div>"
      ],
      "text/plain": [
       "       Midterm Exam  Midterm Paper  Final Exam  total_grade\n",
       "count     24.000000      24.000000   24.000000    24.000000\n",
       "mean      52.708333      59.083333   61.541667    57.777778\n",
       "std       19.676689      17.472753   21.054751    10.721177\n",
       "min       22.000000      30.000000   23.000000    35.666667\n",
       "25%       40.250000      48.000000   48.000000    52.166667\n",
       "50%       47.500000      53.500000   60.000000    53.500000\n",
       "75%       64.000000      64.750000   71.250000    63.916667\n",
       "max       97.000000      96.000000  104.000000    85.000000"
      ]
     },
     "execution_count": 100,
     "metadata": {},
     "output_type": "execute_result"
    }
   ],
   "source": [
    "df1.describe()"
   ]
  },
  {
   "cell_type": "code",
   "execution_count": 103,
   "id": "8b5c32a0",
   "metadata": {},
   "outputs": [
    {
     "data": {
      "image/png": "[encoded data removed]",
      "text/plain": [
       "<Figure size 720x432 with 1 Axes>"
      ]
     },
     "metadata": {},
     "output_type": "display_data"
    }
   ],
   "source": [
    "# Set the style of the plot\n",
    "plt.style.use('ggplot')\n",
    "\n",
    "# Create a figure and axis object\n",
    "fig, ax = plt.subplots(figsize=(10, 6))\n",
    "\n",
    "# Plot the histogram of df1's total grade with 5 bins\n",
    "n, bins, patches = ax.hist(df['total_grade'], bins=5, alpha=0.5, label='DF1')\n",
    "\n",
    "# Plot the histogram of df2's total grade with 5 bins\n",
    "n2, bins2, patches2 = ax.hist(df1['total_grade'], bins=5, alpha=0.5, label='DF2')\n",
    "\n",
    "# Add labels to the plot\n",
    "ax.set_xlabel('Total Grade')\n",
    "ax.set_ylabel('Number of Students')\n",
    "ax.set_title('Histogram of Total Grades')\n",
    "\n",
    "# Add legend to the plot\n",
    "ax.legend()\n",
    "\n",
    "# Show the plot\n",
    "plt.show()"
   ]
  },
  {
   "cell_type": "code",
   "execution_count": 105,
   "id": "60431cee",
   "metadata": {},
   "outputs": [
    {
     "data": {
      "image/png": "[encoded data removed]",
      "text/plain": [
       "<Figure size 1080x360 with 4 Axes>"
      ]
     },
     "metadata": {},
     "output_type": "display_data"
    }
   ],
   "source": [
    "column_names = ['Midterm Exam', 'Midterm Paper', 'Final Exam', 'total_grade']\n",
    "\n",
    "# Set up the figure\n",
    "fig, axes = plt.subplots(nrows=1, ncols=len(column_names), figsize=(15, 5))\n",
    "\n",
    "# Create a boxplot for each column and compare between the two dataframes\n",
    "for i, col in enumerate(column_names):\n",
    "    data = [df[col], df1[col]]\n",
    "    labels = ['df', 'df1']\n",
    "    axes[i].boxplot(data, labels=labels)\n",
    "    axes[i].set_title(col)\n",
    "\n",
    "# Show the plot\n",
    "plt.show()"
   ]
  },
  {
   "cell_type": "code",
   "execution_count": null,
   "id": "0ba8b94b",
   "metadata": {},
   "outputs": [],
   "source": []
  }
 ],
 "metadata": {
  "hide_input": false,
  "kernelspec": {
   "display_name": "Python 3",
   "language": "python",
   "name": "python3"
  },
  "language_info": {
   "codemirror_mode": {
    "name": "ipython",
    "version": 3
   },
   "file_extension": ".py",
   "mimetype": "text/x-python",
   "name": "python",
   "nbconvert_exporter": "python",
   "pygments_lexer": "ipython3",
   "version": "3.8.8"
  }
 },
 "nbformat": 4,
 "nbformat_minor": 5
}
